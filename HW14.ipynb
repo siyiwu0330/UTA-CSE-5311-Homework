{
  "nbformat": 4,
  "nbformat_minor": 0,
  "metadata": {
    "colab": {
      "provenance": []
    },
    "kernelspec": {
      "name": "python3",
      "display_name": "Python 3"
    },
    "language_info": {
      "name": "python"
    }
  },
  "cells": [
    {
      "cell_type": "code",
      "execution_count": 1,
      "metadata": {
        "id": "p2VLAMzPUiKH"
      },
      "outputs": [],
      "source": [
        "from collections import defaultdict\n",
        "\n",
        "class Graph:\n",
        "    def __init__(self, vertices):\n",
        "        self.graph = defaultdict(list)\n",
        "        self.V = vertices\n",
        "\n",
        "    def add_edge(self, u, v):\n",
        "        self.graph[u].append(v)\n",
        "\n",
        "    def topological_sort_util(self, v, visited, stack):\n",
        "        visited[v] = True\n",
        "        for i in self.graph[v]:\n",
        "            if not visited[i]:\n",
        "                self.topological_sort_util(i, visited, stack)\n",
        "        stack.insert(0, v)\n",
        "\n",
        "    def topological_sort(self):\n",
        "        visited = [False] * self.V\n",
        "        stack = []\n",
        "\n",
        "        for i in range(self.V):\n",
        "            if not visited[i]:\n",
        "                self.topological_sort_util(i, visited, stack)\n",
        "        return stack"
      ]
    },
    {
      "cell_type": "code",
      "source": [
        "class DFSGraph:\n",
        "    def __init__(self, vertices):\n",
        "        self.graph = defaultdict(list)\n",
        "        self.V = vertices\n",
        "\n",
        "    def add_edge(self, u, v):\n",
        "        self.graph[u].append(v)\n",
        "\n",
        "    def dfs_util(self, v, visited):\n",
        "        visited[v] = True\n",
        "        print(v, end=' ')\n",
        "        for neighbor in self.graph[v]:\n",
        "            if not visited[neighbor]:\n",
        "                self.dfs_util(neighbor, visited)\n",
        "\n",
        "    def dfs(self, start):\n",
        "        visited = [False] * self.V\n",
        "        self.dfs_util(start, visited)"
      ],
      "metadata": {
        "id": "ua3WcRyrUkcV"
      },
      "execution_count": 2,
      "outputs": []
    },
    {
      "cell_type": "code",
      "source": [
        "class KruskalGraph:\n",
        "    def __init__(self, vertices):\n",
        "        self.V = vertices\n",
        "        self.graph = []\n",
        "\n",
        "    def add_edge(self, u, v, w):\n",
        "        self.graph.append((w, u, v))\n",
        "\n",
        "    def find(self, parent, i):\n",
        "        if parent[i] != i:\n",
        "            parent[i] = self.find(parent, parent[i])\n",
        "        return parent[i]\n",
        "\n",
        "    def union(self, parent, rank, x, y):\n",
        "        xroot = self.find(parent, x)\n",
        "        yroot = self.find(parent, y)\n",
        "\n",
        "        if rank[xroot] < rank[yroot]:\n",
        "            parent[xroot] = yroot\n",
        "        elif rank[xroot] > rank[yroot]:\n",
        "            parent[yroot] = xroot\n",
        "        else:\n",
        "            parent[yroot] = xroot\n",
        "            rank[xroot] += 1\n",
        "\n",
        "    def kruskal_mst(self):\n",
        "        result = []\n",
        "        self.graph.sort()\n",
        "        parent = []\n",
        "        rank = []\n",
        "\n",
        "        for node in range(self.V):\n",
        "            parent.append(node)\n",
        "            rank.append(0)\n",
        "\n",
        "        for edge in self.graph:\n",
        "            w, u, v = edge\n",
        "            x = self.find(parent, u)\n",
        "            y = self.find(parent, v)\n",
        "\n",
        "            if x != y:\n",
        "                result.append(edge)\n",
        "                self.union(parent, rank, x, y)\n",
        "\n",
        "        return result"
      ],
      "metadata": {
        "id": "dNTjh_uNUoe_"
      },
      "execution_count": 3,
      "outputs": []
    },
    {
      "cell_type": "code",
      "source": [
        "def test_topological_sort():\n",
        "    g = Graph(6)\n",
        "    g.add_edge(5, 2)\n",
        "    g.add_edge(5, 0)\n",
        "    g.add_edge(4, 0)\n",
        "    g.add_edge(4, 1)\n",
        "    g.add_edge(2, 3)\n",
        "    g.add_edge(3, 1)\n",
        "\n",
        "    print(\"Topological Sort of the given graph:\")\n",
        "    print(g.topological_sort())\n",
        "\n",
        "test_topological_sort()"
      ],
      "metadata": {
        "colab": {
          "base_uri": "https://localhost:8080/"
        },
        "id": "BHmepfMuUwS4",
        "outputId": "5d5f2c30-6db5-4efa-e89c-6c72f0961dd1"
      },
      "execution_count": 4,
      "outputs": [
        {
          "output_type": "stream",
          "name": "stdout",
          "text": [
            "Topological Sort of the given graph:\n",
            "[5, 4, 2, 3, 1, 0]\n"
          ]
        }
      ]
    },
    {
      "cell_type": "code",
      "source": [
        "def test_dfs():\n",
        "    g = DFSGraph(4)\n",
        "    g.add_edge(0, 1)\n",
        "    g.add_edge(0, 2)\n",
        "    g.add_edge(1, 2)\n",
        "    g.add_edge(2, 0)\n",
        "    g.add_edge(2, 3)\n",
        "    g.add_edge(3, 3)\n",
        "\n",
        "    print(\"\\nDepth-First Search starting from vertex 2:\")\n",
        "    g.dfs(2)\n",
        "\n",
        "test_dfs()"
      ],
      "metadata": {
        "colab": {
          "base_uri": "https://localhost:8080/"
        },
        "id": "gCmMq-qzUyzV",
        "outputId": "03ef5507-46db-433c-d8e4-a579ac132538"
      },
      "execution_count": 5,
      "outputs": [
        {
          "output_type": "stream",
          "name": "stdout",
          "text": [
            "\n",
            "Depth-First Search starting from vertex 2:\n",
            "2 0 1 3 "
          ]
        }
      ]
    },
    {
      "cell_type": "code",
      "source": [
        "def test_kruskal():\n",
        "    g = KruskalGraph(4)\n",
        "    g.add_edge(0, 1, 10)\n",
        "    g.add_edge(0, 2, 6)\n",
        "    g.add_edge(0, 3, 5)\n",
        "    g.add_edge(1, 3, 15)\n",
        "    g.add_edge(2, 3, 4)\n",
        "\n",
        "    mst = g.kruskal_mst()\n",
        "    print(\"\\n\\nEdges in the constructed MST using Kruskal's Algorithm:\")\n",
        "    for weight, u, v in mst:\n",
        "        print(f\"{u} -- {v} == {weight}\")\n",
        "\n",
        "test_kruskal()"
      ],
      "metadata": {
        "colab": {
          "base_uri": "https://localhost:8080/"
        },
        "id": "MNO2Aw_fU1qp",
        "outputId": "617771f1-2c67-4d56-f3b1-34a1a4d93e2c"
      },
      "execution_count": 6,
      "outputs": [
        {
          "output_type": "stream",
          "name": "stdout",
          "text": [
            "\n",
            "\n",
            "Edges in the constructed MST using Kruskal's Algorithm:\n",
            "2 -- 3 == 4\n",
            "0 -- 3 == 5\n",
            "0 -- 1 == 10\n"
          ]
        }
      ]
    },
    {
      "cell_type": "code",
      "source": [],
      "metadata": {
        "id": "Slr-Q6zQVBjy"
      },
      "execution_count": null,
      "outputs": []
    }
  ]
}