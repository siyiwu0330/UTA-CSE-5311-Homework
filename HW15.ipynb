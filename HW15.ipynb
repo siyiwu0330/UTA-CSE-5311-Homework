{
  "nbformat": 4,
  "nbformat_minor": 0,
  "metadata": {
    "colab": {
      "provenance": []
    },
    "kernelspec": {
      "name": "python3",
      "display_name": "Python 3"
    },
    "language_info": {
      "name": "python"
    }
  },
  "cells": [
    {
      "cell_type": "code",
      "execution_count": 1,
      "metadata": {
        "id": "myYVkiItiT9W"
      },
      "outputs": [],
      "source": [
        "import heapq\n",
        "\n",
        "# Dijkstra's Algorithm\n",
        "def dijkstra(graph, source):\n",
        "    dist = {v: float('inf') for v in graph}\n",
        "    dist[source] = 0\n",
        "    visited = set()\n",
        "    heap = [(0, source)]\n",
        "\n",
        "    while heap:\n",
        "        d, u = heapq.heappop(heap)\n",
        "        if u in visited:\n",
        "            continue\n",
        "        visited.add(u)\n",
        "        for v, weight in graph[u]:\n",
        "            if dist[v] > dist[u] + weight:\n",
        "                dist[v] = dist[u] + weight\n",
        "                heapq.heappush(heap, (dist[v], v))\n",
        "    return dist\n",
        "\n",
        "# Bellman-Ford Algorithm\n",
        "def bellman_ford(graph_edges, vertices, source):\n",
        "    dist = {v: float('inf') for v in vertices}\n",
        "    dist[source] = 0\n",
        "\n",
        "    for _ in range(len(vertices) - 1):\n",
        "        for u, v, w in graph_edges:\n",
        "            if dist[u] + w < dist[v]:\n",
        "                dist[v] = dist[u] + w\n",
        "\n",
        "    # Check for negative-weight cycles\n",
        "    for u, v, w in graph_edges:\n",
        "        if dist[u] + w < dist[v]:\n",
        "            raise ValueError(\"Graph contains a negative-weight cycle\")\n",
        "\n",
        "    return dist\n",
        "\n",
        "# Floyd-Warshall Algorithm\n",
        "def floyd_warshall(vertices, weight_matrix):\n",
        "    n = len(vertices)\n",
        "    dist = [[float('inf')] * n for _ in range(n)]\n",
        "\n",
        "    for i in range(n):\n",
        "        dist[i][i] = 0\n",
        "\n",
        "    for i in range(n):\n",
        "        for j in range(n):\n",
        "            if weight_matrix[i][j] is not None:\n",
        "                dist[i][j] = weight_matrix[i][j]\n",
        "\n",
        "    for k in range(n):\n",
        "        for i in range(n):\n",
        "            for j in range(n):\n",
        "                if dist[i][j] > dist[i][k] + dist[k][j]:\n",
        "                    dist[i][j] = dist[i][k] + dist[k][j]\n",
        "\n",
        "    return dist\n"
      ]
    },
    {
      "cell_type": "code",
      "source": [
        "# Dijkstra Test (CLRS Example: Figure 24.6)\n",
        "graph = {\n",
        "    's': [('t', 10), ('y', 5)],\n",
        "    't': [('x', 1), ('y', 2)],\n",
        "    'y': [('t', 3), ('x', 9), ('z', 2)],\n",
        "    'x': [('z', 4)],\n",
        "    'z': [('s', 7), ('x', 6)]\n",
        "}\n",
        "print(\"Dijkstra's algorithm result:\")\n",
        "print(dijkstra(graph, 's'))"
      ],
      "metadata": {
        "colab": {
          "base_uri": "https://localhost:8080/"
        },
        "id": "jJdPSrrXie0Q",
        "outputId": "51334358-ed5f-4b79-cf40-3aa801653130"
      },
      "execution_count": 2,
      "outputs": [
        {
          "output_type": "stream",
          "name": "stdout",
          "text": [
            "Dijkstra's algorithm result:\n",
            "{'s': 0, 't': 8, 'y': 5, 'x': 9, 'z': 7}\n"
          ]
        }
      ]
    },
    {
      "cell_type": "code",
      "source": [
        "# Bellman-Ford Test (CLRS Example: Figure 24.4)\n",
        "graph_edges = [\n",
        "    ('s', 't', 6), ('s', 'y', 7),\n",
        "    ('t', 'x', 5), ('t', 'y', 8), ('t', 'z', -4),\n",
        "    ('y', 'x', -3), ('y', 'z', 9),\n",
        "    ('x', 't', -2),\n",
        "    ('z', 's', 2), ('z', 'x', 7)\n",
        "]\n",
        "vertices = ['s', 't', 'x', 'y', 'z']\n",
        "print(\"\\nBellman-Ford algorithm result:\")\n",
        "print(bellman_ford(graph_edges, vertices, 's'))"
      ],
      "metadata": {
        "colab": {
          "base_uri": "https://localhost:8080/"
        },
        "id": "xd7JF4gSiktt",
        "outputId": "23e76e47-3bda-4e46-9c2e-89d9d315d9af"
      },
      "execution_count": 3,
      "outputs": [
        {
          "output_type": "stream",
          "name": "stdout",
          "text": [
            "\n",
            "Bellman-Ford algorithm result:\n",
            "{'s': 0, 't': 2, 'x': 4, 'y': 7, 'z': -2}\n"
          ]
        }
      ]
    },
    {
      "cell_type": "code",
      "source": [
        "# Floyd-Warshall Test\n",
        "vertices_fw = ['A', 'B', 'C']\n",
        "weight_matrix_fw = [\n",
        "    [0, 3, None],\n",
        "    [None, 0, 1],\n",
        "    [4, None, 0]\n",
        "]\n",
        "print(\"\\nFloyd-Warshall algorithm result:\")\n",
        "dist_fw = floyd_warshall(vertices_fw, weight_matrix_fw)\n",
        "for row in dist_fw:\n",
        "    print(row)"
      ],
      "metadata": {
        "colab": {
          "base_uri": "https://localhost:8080/"
        },
        "id": "XUPsijh7imfx",
        "outputId": "13b679b7-3744-44cf-a9d2-abfa265a2eac"
      },
      "execution_count": 4,
      "outputs": [
        {
          "output_type": "stream",
          "name": "stdout",
          "text": [
            "\n",
            "Floyd-Warshall algorithm result:\n",
            "[0, 3, 4]\n",
            "[5, 0, 1]\n",
            "[4, 7, 0]\n"
          ]
        }
      ]
    },
    {
      "cell_type": "code",
      "source": [],
      "metadata": {
        "id": "bwGTUBL1iork"
      },
      "execution_count": null,
      "outputs": []
    }
  ]
}