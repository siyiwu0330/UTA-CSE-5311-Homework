{
  "nbformat": 4,
  "nbformat_minor": 0,
  "metadata": {
    "colab": {
      "provenance": []
    },
    "kernelspec": {
      "name": "python3",
      "display_name": "Python 3"
    },
    "language_info": {
      "name": "python"
    }
  },
  "cells": [
    {
      "cell_type": "code",
      "execution_count": 1,
      "metadata": {
        "id": "vmX1iGlSvSV4"
      },
      "outputs": [],
      "source": [
        "import ctypes\n",
        "import math"
      ]
    },
    {
      "cell_type": "code",
      "source": [
        "class Node:\n",
        "    def __init__(self, key, value):\n",
        "        self.key = key\n",
        "        self.value = value\n",
        "        self.prev = None\n",
        "        self.next = None"
      ],
      "metadata": {
        "id": "RW0jYHF2vUUj"
      },
      "execution_count": 2,
      "outputs": []
    },
    {
      "cell_type": "code",
      "source": [
        "class DoublyLinkedList:\n",
        "    def __init__(self):\n",
        "        self.head = None\n",
        "\n",
        "    def insert(self, key, value):\n",
        "        node = Node(key, value)\n",
        "        node.next = self.head\n",
        "        if self.head:\n",
        "            self.head.prev = node\n",
        "        self.head = node\n",
        "\n",
        "    def delete(self, key):\n",
        "        curr = self.head\n",
        "        while curr:\n",
        "            if curr.key == key:\n",
        "                if curr.prev:\n",
        "                    curr.prev.next = curr.next\n",
        "                if curr.next:\n",
        "                    curr.next.prev = curr.prev\n",
        "                if curr == self.head:\n",
        "                    self.head = curr.next\n",
        "                return True\n",
        "            curr = curr.next\n",
        "        return False\n",
        "\n",
        "    def find(self, key):\n",
        "        curr = self.head\n",
        "        while curr:\n",
        "            if curr.key == key:\n",
        "                return curr.value\n",
        "            curr = curr.next\n",
        "        return None\n",
        "\n",
        "    def items(self):\n",
        "        curr = self.head\n",
        "        while curr:\n",
        "            yield (curr.key, curr.value)\n",
        "            curr = curr.next\n"
      ],
      "metadata": {
        "id": "4BWnwgWxvXnU"
      },
      "execution_count": 3,
      "outputs": []
    },
    {
      "cell_type": "code",
      "source": [
        "class HashTable:\n",
        "    def __init__(self, initial_capacity=8, hash_method='division'):\n",
        "        self.capacity = initial_capacity\n",
        "        self.size = 0\n",
        "        self.table = self._make_array(self.capacity)\n",
        "        self.hash_method = hash_method\n",
        "\n",
        "    def _make_array(self, size):\n",
        "        arr = (ctypes.py_object * size)()\n",
        "        for i in range(size):\n",
        "            arr[i] = DoublyLinkedList()\n",
        "        return arr\n",
        "\n",
        "    def _hash(self, key):\n",
        "        if self.hash_method == 'division':\n",
        "            return key % self.capacity\n",
        "        elif self.hash_method == 'multiplication':\n",
        "            A = (math.sqrt(5) - 1) / 2\n",
        "            return int(self.capacity * ((key * A) % 1))\n",
        "        else:\n",
        "            raise ValueError(\"Unsupported hash method\")\n",
        "\n",
        "    def insert(self, key, value):\n",
        "        if self.size >= self.capacity:\n",
        "            self._resize(self.capacity * 2)\n",
        "        idx = self._hash(key)\n",
        "        if self.table[idx].find(key) is None:\n",
        "            self.size += 1\n",
        "        self.table[idx].insert(key, value)\n",
        "\n",
        "    def delete(self, key):\n",
        "        idx = self._hash(key)\n",
        "        deleted = self.table[idx].delete(key)\n",
        "        if deleted:\n",
        "            self.size -= 1\n",
        "            if self.capacity > 8 and self.size < self.capacity // 4:\n",
        "                self._resize(self.capacity // 2)\n",
        "        return deleted\n",
        "\n",
        "    def get(self, key):\n",
        "        idx = self._hash(key)\n",
        "        return self.table[idx].find(key)\n",
        "\n",
        "    def _resize(self, new_capacity):\n",
        "        old_items = []\n",
        "        for i in range(self.capacity):\n",
        "            for key, value in self.table[i].items():\n",
        "                old_items.append((key, value))\n",
        "\n",
        "        self.capacity = new_capacity\n",
        "        self.table = self._make_array(self.capacity)\n",
        "        self.size = 0\n",
        "        for key, value in old_items:\n",
        "            self.insert(key, value)\n",
        "\n",
        "    def __str__(self):\n",
        "        result = []\n",
        "        for i in range(self.capacity):\n",
        "            chain = [(k, v) for k, v in self.table[i].items()]\n",
        "            result.append(f\"[{i}]: {chain}\")\n",
        "        return '\\n'.join(result)"
      ],
      "metadata": {
        "id": "SUBtkD0hvanQ"
      },
      "execution_count": 4,
      "outputs": []
    },
    {
      "cell_type": "code",
      "source": [
        "ht = HashTable(hash_method='multiplication')\n",
        "for i in range(20):\n",
        "    ht.insert(i, i * 10)\n",
        "print(ht)\n",
        "\n",
        "print(\"Get key 5:\", ht.get(5))\n",
        "ht.delete(5)\n",
        "print(\"After deleting key 5:\")\n",
        "print(ht)"
      ],
      "metadata": {
        "colab": {
          "base_uri": "https://localhost:8080/"
        },
        "id": "oDDEviGSvdsX",
        "outputId": "a6e31223-d454-4175-a607-318deea487e0"
      },
      "execution_count": 5,
      "outputs": [
        {
          "output_type": "stream",
          "name": "stdout",
          "text": [
            "[0]: [(0, 0)]\n",
            "[1]: [(13, 130)]\n",
            "[2]: [(5, 50)]\n",
            "[3]: [(18, 180)]\n",
            "[4]: []\n",
            "[5]: [(10, 100)]\n",
            "[6]: []\n",
            "[7]: [(2, 20)]\n",
            "[8]: [(15, 150)]\n",
            "[9]: []\n",
            "[10]: [(7, 70)]\n",
            "[11]: []\n",
            "[12]: []\n",
            "[13]: [(12, 120)]\n",
            "[14]: []\n",
            "[15]: [(4, 40)]\n",
            "[16]: [(17, 170)]\n",
            "[17]: [(9, 90)]\n",
            "[18]: []\n",
            "[19]: [(1, 10)]\n",
            "[20]: [(14, 140)]\n",
            "[21]: []\n",
            "[22]: [(6, 60)]\n",
            "[23]: [(19, 190)]\n",
            "[24]: []\n",
            "[25]: [(11, 110)]\n",
            "[26]: []\n",
            "[27]: [(3, 30)]\n",
            "[28]: [(16, 160)]\n",
            "[29]: []\n",
            "[30]: [(8, 80)]\n",
            "[31]: []\n",
            "Get key 5: 50\n",
            "After deleting key 5:\n",
            "[0]: [(0, 0)]\n",
            "[1]: [(13, 130)]\n",
            "[2]: []\n",
            "[3]: [(18, 180)]\n",
            "[4]: []\n",
            "[5]: [(10, 100)]\n",
            "[6]: []\n",
            "[7]: [(2, 20)]\n",
            "[8]: [(15, 150)]\n",
            "[9]: []\n",
            "[10]: [(7, 70)]\n",
            "[11]: []\n",
            "[12]: []\n",
            "[13]: [(12, 120)]\n",
            "[14]: []\n",
            "[15]: [(4, 40)]\n",
            "[16]: [(17, 170)]\n",
            "[17]: [(9, 90)]\n",
            "[18]: []\n",
            "[19]: [(1, 10)]\n",
            "[20]: [(14, 140)]\n",
            "[21]: []\n",
            "[22]: [(6, 60)]\n",
            "[23]: [(19, 190)]\n",
            "[24]: []\n",
            "[25]: [(11, 110)]\n",
            "[26]: []\n",
            "[27]: [(3, 30)]\n",
            "[28]: [(16, 160)]\n",
            "[29]: []\n",
            "[30]: [(8, 80)]\n",
            "[31]: []\n"
          ]
        }
      ]
    },
    {
      "cell_type": "code",
      "source": [],
      "metadata": {
        "id": "VsrMor7ivgwF"
      },
      "execution_count": null,
      "outputs": []
    }
  ]
}