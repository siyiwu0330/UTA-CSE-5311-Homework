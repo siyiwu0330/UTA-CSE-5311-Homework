{
  "nbformat": 4,
  "nbformat_minor": 0,
  "metadata": {
    "colab": {
      "provenance": []
    },
    "kernelspec": {
      "name": "python3",
      "display_name": "Python 3"
    },
    "language_info": {
      "name": "python"
    }
  },
  "cells": [
    {
      "cell_type": "code",
      "execution_count": 1,
      "metadata": {
        "id": "IIrxCtbekXIU"
      },
      "outputs": [],
      "source": [
        "import random"
      ]
    },
    {
      "cell_type": "code",
      "source": [
        "def partition(arr, low, high):\n",
        "    pivot = arr[high]\n",
        "    i = low - 1\n",
        "    for j in range(low, high):\n",
        "        if arr[j] <= pivot:\n",
        "            i += 1\n",
        "            arr[i], arr[j] = arr[j], arr[i]\n",
        "    arr[i + 1], arr[high] = arr[high], arr[i + 1]\n",
        "    return i + 1"
      ],
      "metadata": {
        "id": "RlI0Nj_1keJQ"
      },
      "execution_count": 2,
      "outputs": []
    },
    {
      "cell_type": "code",
      "source": [
        "def quickselect(arr, low, high, k):\n",
        "    if low <= high:\n",
        "        pi = partition(arr, low, high)\n",
        "        if pi == k:\n",
        "            return arr[pi]\n",
        "        elif pi < k:\n",
        "            return quickselect(arr, pi + 1, high, k)\n",
        "        else:\n",
        "            return quickselect(arr, low, pi - 1, k)\n",
        "\n",
        "def find_ith_order_statistic(arr, i):\n",
        "    return quickselect(arr, 0, len(arr) - 1, i)"
      ],
      "metadata": {
        "id": "7E7iG5N6khw4"
      },
      "execution_count": 3,
      "outputs": []
    },
    {
      "cell_type": "code",
      "source": [
        "arr = [12, 3, 5, 7, 19, 26]\n",
        "\n",
        "# Looking for the 3rd smallest element (0-based index)\n",
        "i = 2\n",
        "print(f\"The {i+1}th order statistic is: {find_ith_order_statistic(arr[:], i)}\")"
      ],
      "metadata": {
        "colab": {
          "base_uri": "https://localhost:8080/"
        },
        "id": "dzLAEFl0kk_O",
        "outputId": "b3949dd9-5655-4c7b-8d74-56b6e5885c5b"
      },
      "execution_count": 4,
      "outputs": [
        {
          "output_type": "stream",
          "name": "stdout",
          "text": [
            "The 3th order statistic is: 7\n"
          ]
        }
      ]
    },
    {
      "cell_type": "code",
      "source": [
        "class Stack:\n",
        "    def __init__(self, size):\n",
        "        self.stack = [0] * size\n",
        "        self.top = -1\n",
        "        self.size = size\n",
        "\n",
        "    def push(self, value):\n",
        "        if self.top < self.size - 1:\n",
        "            self.top += 1\n",
        "            self.stack[self.top] = value\n",
        "        else:\n",
        "            raise OverflowError(\"Stack overflow\")\n",
        "\n",
        "    def pop(self):\n",
        "        if self.top >= 0:\n",
        "            value = self.stack[self.top]\n",
        "            self.top -= 1\n",
        "            return value\n",
        "        else:\n",
        "            raise IndexError(\"Stack underflow\")\n",
        "\n",
        "    def peek(self):\n",
        "        if self.top >= 0:\n",
        "            return self.stack[self.top]\n",
        "        else:\n",
        "            raise IndexError(\"Stack is empty\")\n",
        "\n",
        "    def is_empty(self):\n",
        "        return self.top == -1\n",
        "\n",
        "class Queue:\n",
        "    def __init__(self, size):\n",
        "        self.queue = [0] * size\n",
        "        self.front = 0\n",
        "        self.rear = 0\n",
        "        self.size = size\n",
        "        self.count = 0\n",
        "\n",
        "    def enqueue(self, value):\n",
        "        if self.count < self.size:\n",
        "            self.queue[self.rear] = value\n",
        "            self.rear = (self.rear + 1) % self.size\n",
        "            self.count += 1\n",
        "        else:\n",
        "            raise OverflowError(\"Queue overflow\")\n",
        "\n",
        "    def dequeue(self):\n",
        "        if self.count > 0:\n",
        "            value = self.queue[self.front]\n",
        "            self.front = (self.front + 1) % self.size\n",
        "            self.count -= 1\n",
        "            return value\n",
        "        else:\n",
        "            raise IndexError(\"Queue underflow\")\n",
        "\n",
        "    def is_empty(self):\n",
        "        return self.count == 0\n",
        "\n",
        "class SinglyLinkedList:\n",
        "    class Node:\n",
        "        def __init__(self, value):\n",
        "            self.value = value\n",
        "            self.next = None\n",
        "\n",
        "    def __init__(self, size):\n",
        "        self.nodes = [self.Node(0) for _ in range(size)]\n",
        "        self.head = None\n",
        "        self.count = 0\n",
        "        self.size = size\n",
        "\n",
        "    def insert(self, value):\n",
        "        if self.count < self.size:\n",
        "            new_node = self.nodes[self.count]\n",
        "            new_node.value = value\n",
        "            new_node.next = self.head\n",
        "            self.head = new_node\n",
        "            self.count += 1\n",
        "        else:\n",
        "            raise OverflowError(\"Linked list is full\")\n",
        "\n",
        "    def delete(self, value):\n",
        "        prev = None\n",
        "        curr = self.head\n",
        "        while curr:\n",
        "            if curr.value == value:\n",
        "                if prev:\n",
        "                    prev.next = curr.next\n",
        "                else:\n",
        "                    self.head = curr.next\n",
        "                return True\n",
        "            prev = curr\n",
        "            curr = curr.next\n",
        "        return False\n",
        "\n",
        "    def search(self, value):\n",
        "        curr = self.head\n",
        "        while curr:\n",
        "            if curr.value == value:\n",
        "                return True\n",
        "            curr = curr.next\n",
        "        return False"
      ],
      "metadata": {
        "id": "rQCx0vWukqmB"
      },
      "execution_count": 5,
      "outputs": []
    },
    {
      "cell_type": "code",
      "source": [
        "# Example usage\n",
        "stack = Stack(5)\n",
        "stack.push(10)\n",
        "stack.push(20)\n",
        "print(\"Stack top:\", stack.peek())\n",
        "\n",
        "queue = Queue(5)\n",
        "queue.enqueue(1)\n",
        "queue.enqueue(2)\n",
        "print(\"Dequeued:\", queue.dequeue())\n",
        "\n",
        "linked_list = SinglyLinkedList(5)\n",
        "linked_list.insert(5)\n",
        "linked_list.insert(10)\n",
        "print(\"Search 10:\", linked_list.search(10))"
      ],
      "metadata": {
        "colab": {
          "base_uri": "https://localhost:8080/"
        },
        "id": "3auwr7iHlMFg",
        "outputId": "bc93907b-ac1d-48be-ec55-5183a43f2dd9"
      },
      "execution_count": 6,
      "outputs": [
        {
          "output_type": "stream",
          "name": "stdout",
          "text": [
            "Stack top: 20\n",
            "Dequeued: 1\n",
            "Search 10: True\n"
          ]
        }
      ]
    },
    {
      "cell_type": "code",
      "source": [],
      "metadata": {
        "id": "eATB3yB5lNmv"
      },
      "execution_count": null,
      "outputs": []
    }
  ]
}