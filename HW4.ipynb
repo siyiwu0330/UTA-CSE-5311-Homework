{
  "nbformat": 4,
  "nbformat_minor": 0,
  "metadata": {
    "colab": {
      "provenance": []
    },
    "kernelspec": {
      "name": "python3",
      "display_name": "Python 3"
    },
    "language_info": {
      "name": "python"
    }
  },
  "cells": [
    {
      "cell_type": "markdown",
      "source": [
        "HW4\n",
        "==\n",
        "\n",
        "Siyi Wu\n",
        "\n",
        "sxw8121@mavs.uta.edu"
      ],
      "metadata": {
        "id": "GkEK75w2AICn"
      }
    },
    {
      "cell_type": "markdown",
      "source": [
        "## Problem 0"
      ],
      "metadata": {
        "id": "sQVt9LvwBha6"
      }
    },
    {
      "cell_type": "code",
      "execution_count": 1,
      "metadata": {
        "id": "3B0HpGT9AEAD"
      },
      "outputs": [],
      "source": [
        "def fib(n):\n",
        "    if n == 0:\n",
        "        return 0\n",
        "    if n == 1:\n",
        "        return 1\n",
        "    return fib(n - 1) + fib(n - 2)"
      ]
    },
    {
      "cell_type": "code",
      "source": [
        "fib(5)"
      ],
      "metadata": {
        "colab": {
          "base_uri": "https://localhost:8080/"
        },
        "id": "MRnMQe7sAPzZ",
        "outputId": "443bc334-4a31-4435-a139-a85c2f11917c"
      },
      "execution_count": 2,
      "outputs": [
        {
          "output_type": "execute_result",
          "data": {
            "text/plain": [
              "5"
            ]
          },
          "metadata": {},
          "execution_count": 2
        }
      ]
    },
    {
      "cell_type": "code",
      "source": [
        "def print_fib_structure(n, indent=0):\n",
        "\n",
        "    print(\" \" * indent + f\"fib({n})\")\n",
        "\n",
        "    if n > 1:\n",
        "        print_fib_structure(n - 1, indent + 2)\n",
        "        print_fib_structure(n - 2, indent + 2)"
      ],
      "metadata": {
        "id": "7Zx2HH5kGzEZ"
      },
      "execution_count": 3,
      "outputs": []
    },
    {
      "cell_type": "code",
      "source": [
        "print_fib_structure(5)"
      ],
      "metadata": {
        "colab": {
          "base_uri": "https://localhost:8080/"
        },
        "id": "g8Z0FNyOG7hu",
        "outputId": "fd3459c0-9c52-4de1-d5d5-11e2e7e29604"
      },
      "execution_count": 4,
      "outputs": [
        {
          "output_type": "stream",
          "name": "stdout",
          "text": [
            "fib(5)\n",
            "  fib(4)\n",
            "    fib(3)\n",
            "      fib(2)\n",
            "        fib(1)\n",
            "        fib(0)\n",
            "      fib(1)\n",
            "    fib(2)\n",
            "      fib(1)\n",
            "      fib(0)\n",
            "  fib(3)\n",
            "    fib(2)\n",
            "      fib(1)\n",
            "      fib(0)\n",
            "    fib(1)\n"
          ]
        }
      ]
    },
    {
      "cell_type": "markdown",
      "source": [
        "## Prove Time Complexity\n",
        "\n",
        "1. In this naive recursive implementation of `fib(n)`, each call to `fib` spawns two more calls (except for the base cases at `n=0` or `n=1`).\n",
        "\n",
        "2. Recursively, the total number of calls grows roughly like a **binary tree** of height `n`. This leads to an exponential time complexity on the order of \\(2^n\\).\n",
        "\n",
        "3. More formally, you can show by induction that \\(T(n) = T(n-1) + T(n-2) + C\\) (for some constant \\(C\\) to account for the function overhead). The dominant term in the solution of this recurrence is \\(O(2^n)\\).\n",
        "\n",
        "Hence, the time complexity of this naive implementation is **\\(O(2^n)\\)**.\n",
        "\n",
        "\n",
        "## Ways to Improve the Implementation\n",
        "\n",
        "1. **Memoization (Top-Down)**  \n",
        "   - Store the results of `fib(k)` in a dictionary (or list) after the first time you compute it.  \n",
        "   - Before computing `fib(k)`, check if it’s already in your memo. If it is, return that instead of making more recursive calls.  \n",
        "   - This reduces repeated subproblems and brings the time complexity down to \\(O(n)\\).\n",
        "\n",
        "2. **Tabulation (Bottom-Up)**  \n",
        "   - Use a loop and build up a table (array) `dp[0..n]` where `dp[i] = fib(i)`.  \n",
        "   - This also achieves time complexity \\(O(n)\\).\n",
        "\n",
        "3. **Iterative Approach**  \n",
        "   - Keep two variables to store `fib(i-1)` and `fib(i-2)` and then move forward, updating at each step until `n`.  \n",
        "   - This achieves \\(O(n)\\) time complexity and **\\(O(1)\\)** auxiliary space.\n"
      ],
      "metadata": {
        "id": "FvCI3U0IDruM"
      }
    },
    {
      "cell_type": "markdown",
      "source": [
        "## Problem 1"
      ],
      "metadata": {
        "id": "cuirvGpzELyu"
      }
    },
    {
      "cell_type": "code",
      "source": [
        "import heapq\n",
        "\n",
        "def merge_k_sorted_arrays(arrays):\n",
        "    result = []\n",
        "    min_heap = []\n",
        "\n",
        "    # Step 1: Push the first element of each array into the min_heap\n",
        "    for i in range(len(arrays)):\n",
        "        if arrays[i]:  # make sure array is not empty\n",
        "            heapq.heappush(min_heap, (arrays[i][0], i, 0))\n",
        "\n",
        "    # Step 2: Pop/Push until all elements are processed\n",
        "    while min_heap:\n",
        "        value, array_index, element_index = heapq.heappop(min_heap)\n",
        "        result.append(value)\n",
        "\n",
        "        # If there's a next element in the same array, push it onto the heap\n",
        "        if element_index + 1 < len(arrays[array_index]):\n",
        "            next_tuple = (arrays[array_index][element_index + 1], array_index, element_index + 1)\n",
        "            heapq.heappush(min_heap, next_tuple)\n",
        "\n",
        "    return result"
      ],
      "metadata": {
        "id": "hGptkieSAQ0r"
      },
      "execution_count": 5,
      "outputs": []
    },
    {
      "cell_type": "code",
      "source": [
        "# Test case 1\n",
        "arr1 = [\n",
        "    [1, 3, 5, 7],\n",
        "    [2, 4, 6, 8],\n",
        "    [0, 9, 10, 11]\n",
        "]\n",
        "res1 = merge_k_sorted_arrays(arr1)\n",
        "print(res1)"
      ],
      "metadata": {
        "colab": {
          "base_uri": "https://localhost:8080/"
        },
        "id": "WaczoZ6LE4C7",
        "outputId": "1066ce98-47dd-439c-9928-024b1f8d509f"
      },
      "execution_count": 6,
      "outputs": [
        {
          "output_type": "stream",
          "name": "stdout",
          "text": [
            "[0, 1, 2, 3, 4, 5, 6, 7, 8, 9, 10, 11]\n"
          ]
        }
      ]
    },
    {
      "cell_type": "code",
      "source": [
        "# Test case 2\n",
        "arr2 = [\n",
        "    [1, 3, 7],\n",
        "    [2, 4, 8],\n",
        "    [9, 10, 11]\n",
        "]\n",
        "res2 = merge_k_sorted_arrays(arr2)\n",
        "print(res2)"
      ],
      "metadata": {
        "colab": {
          "base_uri": "https://localhost:8080/"
        },
        "id": "j1viBMXpFPk8",
        "outputId": "a0055e79-07f9-4f5d-bb02-f6e31bd1d97c"
      },
      "execution_count": 7,
      "outputs": [
        {
          "output_type": "stream",
          "name": "stdout",
          "text": [
            "[1, 2, 3, 4, 7, 8, 9, 10, 11]\n"
          ]
        }
      ]
    },
    {
      "cell_type": "markdown",
      "source": [
        "## Problem 2"
      ],
      "metadata": {
        "id": "Dt7sYyXCHg-o"
      }
    },
    {
      "cell_type": "code",
      "source": [
        "def remove_duplicates_sorted(arr):\n",
        "    if not arr:\n",
        "        return []\n",
        "\n",
        "    write_index = 0\n",
        "    for i in range(1, len(arr)):\n",
        "        if arr[i] != arr[write_index]:\n",
        "            write_index += 1\n",
        "            arr[write_index] = arr[i]\n",
        "\n",
        "    return arr[:write_index + 1]"
      ],
      "metadata": {
        "id": "Bv6x18TbFb8M"
      },
      "execution_count": 8,
      "outputs": []
    },
    {
      "cell_type": "code",
      "source": [
        "# Test Case 1\n",
        "arr1 = [2, 2, 2, 2, 2]\n",
        "res1 = remove_duplicates_sorted(arr1)\n",
        "res1"
      ],
      "metadata": {
        "colab": {
          "base_uri": "https://localhost:8080/"
        },
        "id": "jvnbA7OuHuge",
        "outputId": "def2cc40-ecbe-46ac-c3f3-97e8fcb66466"
      },
      "execution_count": 9,
      "outputs": [
        {
          "output_type": "execute_result",
          "data": {
            "text/plain": [
              "[2]"
            ]
          },
          "metadata": {},
          "execution_count": 9
        }
      ]
    },
    {
      "cell_type": "code",
      "source": [
        "# Test Case 2\n",
        "arr2 = [1, 2, 2, 3, 4, 4, 4, 5, 5]\n",
        "res2 = remove_duplicates_sorted(arr2)\n",
        "res2"
      ],
      "metadata": {
        "colab": {
          "base_uri": "https://localhost:8080/"
        },
        "id": "3lHWeoX6I8U6",
        "outputId": "96d9694f-b749-4034-a6d5-018b0502a086"
      },
      "execution_count": 10,
      "outputs": [
        {
          "output_type": "execute_result",
          "data": {
            "text/plain": [
              "[1, 2, 3, 4, 5]"
            ]
          },
          "metadata": {},
          "execution_count": 10
        }
      ]
    },
    {
      "cell_type": "code",
      "source": [],
      "metadata": {
        "id": "sFZnaxpqJJq2"
      },
      "execution_count": 10,
      "outputs": []
    }
  ]
}