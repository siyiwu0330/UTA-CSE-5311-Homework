{
  "nbformat": 4,
  "nbformat_minor": 0,
  "metadata": {
    "colab": {
      "provenance": []
    },
    "kernelspec": {
      "name": "python3",
      "display_name": "Python 3"
    },
    "language_info": {
      "name": "python"
    }
  },
  "cells": [
    {
      "cell_type": "code",
      "execution_count": 1,
      "metadata": {
        "id": "64RZZxHbbkRj"
      },
      "outputs": [],
      "source": [
        "class MinHeap:\n",
        "    def __init__(self):\n",
        "        self.heap = []\n",
        "\n",
        "    def parent(self, index):\n",
        "        return (index - 1) >> 1\n",
        "\n",
        "    def left_child(self, index):\n",
        "        return (index << 1) + 1\n",
        "\n",
        "    def right_child(self, index):\n",
        "        return (index << 1) + 2\n",
        "\n",
        "    def swap(self, i, j):\n",
        "        self.heap[i], self.heap[j] = self.heap[j], self.heap[i]\n",
        "\n",
        "    def heapify_down(self, index):\n",
        "        smallest = index\n",
        "        left = self.left_child(index)\n",
        "        right = self.right_child(index)\n",
        "\n",
        "        if left < len(self.heap) and self.heap[left] < self.heap[smallest]:\n",
        "            smallest = left\n",
        "        if right < len(self.heap) and self.heap[right] < self.heap[smallest]:\n",
        "            smallest = right\n",
        "\n",
        "        if smallest != index:\n",
        "            self.swap(index, smallest)\n",
        "            self.heapify_down(smallest)\n",
        "\n",
        "    def heapify_up(self, index):\n",
        "        while index > 0 and self.heap[self.parent(index)] > self.heap[index]:\n",
        "            self.swap(index, self.parent(index))\n",
        "            index = self.parent(index)\n",
        "\n",
        "    def push(self, value):\n",
        "        self.heap.append(value)\n",
        "        self.heapify_up(len(self.heap) - 1)\n",
        "\n",
        "    def pop(self):\n",
        "        if not self.heap:\n",
        "            return None\n",
        "\n",
        "        root = self.heap[0]\n",
        "        self.heap[0] = self.heap[-1]\n",
        "        self.heap.pop()\n",
        "        self.heapify_down(0)\n",
        "\n",
        "        return root\n",
        "\n",
        "    def build_min_heap(self, array):\n",
        "        self.heap = array[:]\n",
        "        for i in range(len(self.heap) // 2, -1, -1):\n",
        "            self.heapify_down(i)\n",
        "\n",
        "    def __str__(self):\n",
        "        return str(self.heap)\n"
      ]
    },
    {
      "cell_type": "code",
      "source": [
        "heap = MinHeap()\n",
        "elements = [10, 3, 5, 1, 7, 8, 2]\n",
        "print(\"Building min heap from:\", elements)\n",
        "heap.build_min_heap(elements)\n",
        "print(\"Min heap:\", heap)\n",
        "\n",
        "heap.push(0)\n",
        "print(\"After pushing 0:\", heap)\n",
        "\n",
        "print(\"Popped element:\", heap.pop())\n",
        "print(\"Heap after pop:\", heap)"
      ],
      "metadata": {
        "colab": {
          "base_uri": "https://localhost:8080/"
        },
        "id": "4_2xq-IMbshg",
        "outputId": "db94657f-edf4-4f56-d955-278ab304b3df"
      },
      "execution_count": 3,
      "outputs": [
        {
          "output_type": "stream",
          "name": "stdout",
          "text": [
            "Building min heap from: [10, 3, 5, 1, 7, 8, 2]\n",
            "Min heap: [1, 3, 2, 10, 7, 8, 5]\n",
            "After pushing 0: [0, 1, 2, 3, 7, 8, 5, 10]\n",
            "Popped element: 0\n",
            "Heap after pop: [1, 3, 2, 10, 7, 8, 5]\n"
          ]
        }
      ]
    }
  ]
}