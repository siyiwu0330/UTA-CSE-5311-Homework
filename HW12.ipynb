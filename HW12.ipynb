{
  "nbformat": 4,
  "nbformat_minor": 0,
  "metadata": {
    "colab": {
      "provenance": []
    },
    "kernelspec": {
      "name": "python3",
      "display_name": "Python 3"
    },
    "language_info": {
      "name": "python"
    }
  },
  "cells": [
    {
      "cell_type": "code",
      "execution_count": 1,
      "metadata": {
        "id": "T0n2brLDqC67"
      },
      "outputs": [],
      "source": [
        "import ctypes\n",
        "\n",
        "class DynamicArray:\n",
        "    def __init__(self):\n",
        "        self._n = 0  # 当前元素数量\n",
        "        self._capacity = 1  # 当前容量\n",
        "        self._A = self._make_array(self._capacity)\n",
        "\n",
        "    def __len__(self):\n",
        "        return self._n\n",
        "\n",
        "    def __getitem__(self, k):\n",
        "        if 0 <= k < self._n:\n",
        "            return self._A[k]\n",
        "        raise IndexError('Index out of bounds')\n",
        "\n",
        "    def append(self, obj):\n",
        "        if self._n == self._capacity:\n",
        "            self._resize(2 * self._capacity)  # 容量不够，扩容\n",
        "        self._A[self._n] = obj\n",
        "        self._n += 1\n",
        "\n",
        "    def _resize(self, new_cap):\n",
        "        B = self._make_array(new_cap)\n",
        "        for k in range(self._n):\n",
        "            B[k] = self._A[k]\n",
        "        self._A = B\n",
        "        self._capacity = new_cap\n",
        "\n",
        "    def _make_array(self, c):\n",
        "        return (c * ctypes.c_int)()\n",
        "\n",
        "    def __str__(self):\n",
        "        return '[' + ', '.join(str(self._A[i]) for i in range(self._n)) + ']'"
      ]
    },
    {
      "cell_type": "code",
      "source": [
        "arr = DynamicArray()\n",
        "for i in range(10):\n",
        "    arr.append(i)\n",
        "print(arr)\n"
      ],
      "metadata": {
        "colab": {
          "base_uri": "https://localhost:8080/"
        },
        "id": "z1siSZwGqHU0",
        "outputId": "1f7c54a0-49d0-4c46-853d-ee5213c5b34e"
      },
      "execution_count": 2,
      "outputs": [
        {
          "output_type": "stream",
          "name": "stdout",
          "text": [
            "[0, 1, 2, 3, 4, 5, 6, 7, 8, 9]\n"
          ]
        }
      ]
    },
    {
      "cell_type": "markdown",
      "source": [
        "## Problem\n",
        "\n",
        "> Given a dynamic table (see Section 17.4) that doubles in size when it needs more space, find the **amortized runtime** for inserting `n` elements:\n",
        "> - a) Use the **Aggregate Method**\n",
        "> - b) Use the **Accounting Method**\n",
        "\n",
        "---\n",
        "\n",
        "## Solution\n",
        "\n",
        "### a) Aggregate Method\n",
        "\n",
        "**Idea:**  \n",
        "We analyze the total cost of inserting `n` elements into a dynamic array that doubles in size when full.\n",
        "\n",
        "- Regular insert: cost = 1\n",
        "- When resizing: we also copy all existing elements\n",
        "\n",
        "#### Capacity doubling:\n",
        "The capacity grows like: 1 → 2 → 4 → 8 → ...  \n",
        "Each time the array is full, it resizes to double the size and copies all existing elements.\n",
        "\n",
        "**Example for `n = 10`:**\n",
        "\n",
        "| Insertion | Resizing? | Copy Cost |\n",
        "|-----------|-----------|-----------|\n",
        "| 1         | ✅         | 0         |\n",
        "| 2         | ✅         | 1         |\n",
        "| 3         |           | 0         |\n",
        "| 4         | ✅         | 2         |\n",
        "| 5–7       |           | 0         |\n",
        "| 8         | ✅         | 4         |\n",
        "| 9–10      |           | 0         |\n",
        "\n",
        "Copy cost is: 1 + 2 + 4 + 8 + ... ≤ 2n - 1  \n",
        "Insert cost is: `n`  \n",
        "Total cost ≤ `n + 2n` = **3n**\n",
        "\n",
        "#### Amortized Time:\n",
        "$$\n",
        "\\frac{T(n)}{n} \\leq \\frac{3n}{n} = \\boxed{O(1)}\n",
        "$$\n",
        "\n",
        "---\n",
        "\n",
        "### b) Accounting Method\n",
        "\n",
        "**Idea:**  \n",
        "We assign an artificial (amortized) cost to each operation to \"prepay\" for future expensive operations.\n",
        "\n",
        "#### Strategy:\n",
        "- Charge each insertion **3 units**\n",
        "- Spend:\n",
        "  - 1 unit to insert the element\n",
        "  - 2 units saved (\"banked\") to pay for future copy operations\n",
        "\n",
        "#### Why it works:\n",
        "- When we double the size, we need to copy all existing elements\n",
        "- Each of those elements has saved 2 units, which is enough to pay for being copied\n",
        "\n",
        "#### Amortized Time:\n",
        "Every insert is charged a constant cost →  \n",
        "$$\n",
        "\\boxed{O(1)} \\text{ amortized time per insert}\n",
        "$$\n",
        "\n",
        "---\n",
        "\n",
        "## Conclusion\n",
        "\n",
        "Using both the **Aggregate** and **Accounting** methods, the amortized cost per insertion into a dynamic array that doubles its size is:\n",
        "\n",
        "$$\n",
        "\\boxed{O(1)}\n",
        "$$\n",
        "\n",
        "This shows that dynamic arrays are efficient for append operations, even with occasional resizing."
      ],
      "metadata": {
        "id": "htp0TFJBq0pw"
      }
    },
    {
      "cell_type": "code",
      "source": [],
      "metadata": {
        "id": "Pl1JXg6YqK-w"
      },
      "execution_count": null,
      "outputs": []
    }
  ]
}